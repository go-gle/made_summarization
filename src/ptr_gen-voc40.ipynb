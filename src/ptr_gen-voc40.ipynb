{
 "cells": [
  {
   "cell_type": "code",
   "execution_count": 1,
   "id": "262c3c92-8524-4319-8ef5-94e7708bfb5c",
   "metadata": {},
   "outputs": [],
   "source": [
    "import torch\n",
    "from torch.utils.data import DataLoader\n",
    "from torch.nn.utils.rnn import pad_sequence\n",
    "from torchtext.vocab import vocab as torch_vocab\n",
    "\n",
    "import numpy as np\n",
    "import matplotlib.pyplot as plt\n",
    "from tqdm.notebook import tqdm\n",
    "\n",
    "from datasets import load_dataset"
   ]
  },
  {
   "cell_type": "code",
   "execution_count": 2,
   "id": "7e0e464b",
   "metadata": {},
   "outputs": [],
   "source": [
    "from pointer_gen.model import PGen\n",
    "from pointer_gen.utils import get_counters, SummDataset, PointerDataPoint, SOS, EOS, PAD, OOV"
   ]
  },
  {
   "cell_type": "code",
   "execution_count": 3,
   "id": "51564f38-ca94-4764-b23c-88004975d74a",
   "metadata": {},
   "outputs": [
    {
     "name": "stderr",
     "output_type": "stream",
     "text": [
      "No config specified, defaulting to: gazeta/default\n",
      "Found cached dataset gazeta (/home/goncharovglebig/.cache/huggingface/datasets/IlyaGusev___gazeta/default/2.0.0/c329f0fc1c22ab6e43e0045ee659d0d43c647492baa2a6ab3a5ea7dac98cd552)\n"
     ]
    },
    {
     "data": {
      "application/vnd.jupyter.widget-view+json": {
       "model_id": "8af8ee1fc3c64322a900314b473cb54a",
       "version_major": 2,
       "version_minor": 0
      },
      "text/plain": [
       "  0%|          | 0/3 [00:00<?, ?it/s]"
      ]
     },
     "metadata": {},
     "output_type": "display_data"
    }
   ],
   "source": [
    "dataset = load_dataset('IlyaGusev/gazeta', revision=\"v2.0\")\n",
    "\n",
    "\n",
    "specials = [SOS, EOS, PAD, OOV]\n",
    "\n",
    "\n",
    "train_df = dataset['train']\n",
    "val_df = dataset['validation']\n",
    "test_df = dataset['test']"
   ]
  },
  {
   "cell_type": "code",
   "execution_count": 4,
   "id": "5c8a0622-60c1-4b77-b441-ac259d15ad28",
   "metadata": {},
   "outputs": [],
   "source": [
    "# Create vocab\n",
    "# src_counts = get_counters(train_df['text'], train_df['summary'])"
   ]
  },
  {
   "cell_type": "code",
   "execution_count": 5,
   "id": "0fe9868a-c00d-4803-a8a5-6a0fa706c6ab",
   "metadata": {},
   "outputs": [],
   "source": [
    "# vocab = torch_vocab(src_counts, min_freq=70, specials=specials)\n",
    "# vocab.set_default_index(vocab[OOV])\n",
    "# vocab = vocab\n",
    "# len(vocab)"
   ]
  },
  {
   "cell_type": "code",
   "execution_count": 6,
   "id": "e6b5df2d",
   "metadata": {},
   "outputs": [
    {
     "data": {
      "text/plain": [
       "43663"
      ]
     },
     "execution_count": 6,
     "metadata": {},
     "output_type": "execute_result"
    }
   ],
   "source": [
    "# torch.save(vocab, 'gazeta_voc.pth')\n",
    "vocab = torch.load('gazeta_voc.pth')\n",
    "len(vocab)"
   ]
  },
  {
   "cell_type": "code",
   "execution_count": 7,
   "id": "088aea73-0302-4a2a-9f71-b241a2adc41e",
   "metadata": {},
   "outputs": [
    {
     "data": {
      "application/vnd.jupyter.widget-view+json": {
       "model_id": "722c2e22135b48cea921c4eeeaec41c2",
       "version_major": 2,
       "version_minor": 0
      },
      "text/plain": [
       "  0%|          | 0/60964 [00:00<?, ?it/s]"
      ]
     },
     "metadata": {},
     "output_type": "display_data"
    },
    {
     "data": {
      "application/vnd.jupyter.widget-view+json": {
       "model_id": "de1859174cfa4308add377a3a65cf838",
       "version_major": 2,
       "version_minor": 0
      },
      "text/plain": [
       "  0%|          | 0/6369 [00:00<?, ?it/s]"
      ]
     },
     "metadata": {},
     "output_type": "display_data"
    },
    {
     "data": {
      "application/vnd.jupyter.widget-view+json": {
       "model_id": "2eed24f014ca477f9a6da45dcf92c23c",
       "version_major": 2,
       "version_minor": 0
      },
      "text/plain": [
       "  0%|          | 0/6793 [00:00<?, ?it/s]"
      ]
     },
     "metadata": {},
     "output_type": "display_data"
    }
   ],
   "source": [
    "train_dataset = SummDataset(train_df['text'], train_df['summary'])\n",
    "val_dataset = SummDataset(val_df['text'], val_df['summary'])\n",
    "test_dataset = SummDataset(test_df['text'], test_df['summary'])"
   ]
  },
  {
   "cell_type": "code",
   "execution_count": 8,
   "id": "706de80d-5749-4146-a78c-caf11dae4fbd",
   "metadata": {},
   "outputs": [
    {
     "data": {
      "text/plain": [
       "41"
      ]
     },
     "execution_count": 8,
     "metadata": {},
     "output_type": "execute_result"
    }
   ],
   "source": [
    "import gc\n",
    "\n",
    "\n",
    "del train_df\n",
    "del val_df\n",
    "del test_df\n",
    "\n",
    "gc.collect()"
   ]
  },
  {
   "cell_type": "code",
   "execution_count": 9,
   "id": "288ccd7c",
   "metadata": {},
   "outputs": [],
   "source": [
    "def collate_batch(batch):\n",
    "    \"\"\"\n",
    "    Collects batch for model\n",
    "    Returns:\n",
    "        enc_input_padded - padded art_idxs tensor\n",
    "        enc_input_ext_padded - padded art_exq_idxs tensor\n",
    "        enc_padding_mask - pad mask for enc_input_padded\n",
    "        extra_zeros - zeros for extented vocab\n",
    "        dec_input_padded - padded abs_idxs tensor\n",
    "        target_padded - padded abs_idxs extra tensor\n",
    "        target_padding_mask - pad mask for target_padded\n",
    "        target_lens - lens of decoder input\n",
    "        \n",
    "    \"\"\"\n",
    "\n",
    "    enc_list, enc_ext_list, dec_inp_list, target_list, oovs_len_list, target_lens_list, oovs = [], [], [], [], [], [], []\n",
    "    batch_size = len(batch)\n",
    "    for article, abstract in batch:\n",
    "        data_point = PointerDataPoint(article, abstract, vocab)\n",
    "        \n",
    "        enc_input = torch.tensor(np.array(data_point.art_idxs))\n",
    "        enc_input_ext = torch.tensor(np.array(data_point.art_ext_idxs))\n",
    "        dec_input = torch.tensor(np.array(data_point.abs_idxs))\n",
    "        target = torch.tensor(np.array(data_point.abs_ext_idxs))\n",
    "        \n",
    "        oovs.append(data_point.art_oovs)\n",
    "        oovs_len_list.append(len(data_point.art_oovs))\n",
    "        enc_list.append(enc_input)\n",
    "        dec_inp_list.append(dec_input)\n",
    "        enc_ext_list.append(enc_input_ext)\n",
    "        target_list.append(target)\n",
    "        target_lens_list.append(len(target))\n",
    "        \n",
    "\n",
    "    \n",
    "    enc_input_padded = pad_sequence(enc_list, padding_value=vocab[PAD]).T\n",
    "    enc_input_ext_padded = pad_sequence(enc_ext_list, padding_value=vocab[PAD]).T\n",
    "    target_padded = pad_sequence(target_list, padding_value=vocab[PAD]).T\n",
    "    dec_inp_padded = pad_sequence(dec_inp_list, padding_value=vocab[PAD]).T\n",
    "    \n",
    "    enc_padding_mask = enc_input_padded.ne(vocab[PAD]).long()\n",
    "    target_padding_mask = target_padded.ne(vocab[PAD]).long()\n",
    "    \n",
    "    target_lens = torch.tensor(target_lens_list)\n",
    "    \n",
    "    max_oovs = max(oovs_len_list)\n",
    "    extra_zeros = None\n",
    "    if max_oovs > 0:\n",
    "        extra_zeros = torch.zeros((batch_size, max_oovs), requires_grad=True)\n",
    "\n",
    "    return (enc_input_padded.to(device), enc_input_ext_padded.to(device),\n",
    "            enc_padding_mask.to(device), extra_zeros.to(device),\n",
    "            dec_inp_padded.to(device), target_padded.to(device),\n",
    "            target_padding_mask.to(device), target_lens.to(device),\n",
    "            oovs\n",
    "           )"
   ]
  },
  {
   "cell_type": "code",
   "execution_count": 10,
   "id": "e70b1fe5",
   "metadata": {},
   "outputs": [],
   "source": [
    "train_loader = DataLoader(train_dataset,\n",
    "                          batch_size=32,\n",
    "                          collate_fn=collate_batch)\n",
    "val_loader = DataLoader(val_dataset,\n",
    "                          batch_size=32,\n",
    "                          collate_fn=collate_batch)\n",
    "test_loader = DataLoader(test_dataset,\n",
    "                          batch_size=32,\n",
    "                          collate_fn=collate_batch)"
   ]
  },
  {
   "cell_type": "code",
   "execution_count": null,
   "id": "7f643133-1ff5-469e-a39f-06e2222f463a",
   "metadata": {
    "tags": []
   },
   "outputs": [
    {
     "data": {
      "application/vnd.jupyter.widget-view+json": {
       "model_id": "2bb44d2eb704429b899ecc6d299c7230",
       "version_major": 2,
       "version_minor": 0
      },
      "text/plain": [
       "  0%|          | 0/45 [00:00<?, ?it/s]"
      ]
     },
     "metadata": {},
     "output_type": "display_data"
    },
    {
     "data": {
      "application/vnd.jupyter.widget-view+json": {
       "model_id": "626de3be7d94428cb1e0ac437dca8d33",
       "version_major": 2,
       "version_minor": 0
      },
      "text/plain": [
       "  0%|          | 0/1906 [00:00<?, ?it/s]"
      ]
     },
     "metadata": {},
     "output_type": "display_data"
    },
    {
     "name": "stdout",
     "output_type": "stream",
     "text": [
      "Saving best model\n",
      "Saving best model\n",
      "Saving best model\n",
      "Saving best model\n",
      "For epoch #0 train loss 6.1968868882058175, val loss 5.654490928649903\n"
     ]
    },
    {
     "data": {
      "application/vnd.jupyter.widget-view+json": {
       "model_id": "2dfb1a7bfc024c6996c6de45d2221175",
       "version_major": 2,
       "version_minor": 0
      },
      "text/plain": [
       "  0%|          | 0/1906 [00:00<?, ?it/s]"
      ]
     },
     "metadata": {},
     "output_type": "display_data"
    },
    {
     "name": "stdout",
     "output_type": "stream",
     "text": [
      "Saving best model\n",
      "Saving best model\n",
      "Saving best model\n",
      "Saving best model\n",
      "For epoch #1 train loss 5.852177844968197, val loss 5.464110163450241\n"
     ]
    },
    {
     "data": {
      "application/vnd.jupyter.widget-view+json": {
       "model_id": "c985b038b43e4140a8a235b2367f6659",
       "version_major": 2,
       "version_minor": 0
      },
      "text/plain": [
       "  0%|          | 0/1906 [00:00<?, ?it/s]"
      ]
     },
     "metadata": {},
     "output_type": "display_data"
    },
    {
     "name": "stdout",
     "output_type": "stream",
     "text": [
      "Saving best model\n",
      "Saving best model\n",
      "Saving best model\n",
      "For epoch #2 train loss 5.643760024854961, val loss 5.336097704569498\n"
     ]
    },
    {
     "data": {
      "application/vnd.jupyter.widget-view+json": {
       "model_id": "cf6447fc869848ff9df10cc83ae103d4",
       "version_major": 2,
       "version_minor": 0
      },
      "text/plain": [
       "  0%|          | 0/1906 [00:00<?, ?it/s]"
      ]
     },
     "metadata": {},
     "output_type": "display_data"
    },
    {
     "name": "stdout",
     "output_type": "stream",
     "text": [
      "Saving best model\n",
      "For epoch #3 train loss 5.49726099551412, val loss 5.237018035054207\n"
     ]
    },
    {
     "data": {
      "application/vnd.jupyter.widget-view+json": {
       "model_id": "14accd0b749c42b1821bc9a41c492004",
       "version_major": 2,
       "version_minor": 0
      },
      "text/plain": [
       "  0%|          | 0/1906 [00:00<?, ?it/s]"
      ]
     },
     "metadata": {},
     "output_type": "display_data"
    },
    {
     "name": "stdout",
     "output_type": "stream",
     "text": [
      "Saving best model\n",
      "For epoch #4 train loss 5.380927639517929, val loss 5.154790827751159\n"
     ]
    },
    {
     "data": {
      "application/vnd.jupyter.widget-view+json": {
       "model_id": "13e188dc855b42b798be7ff195ce9db9",
       "version_major": 2,
       "version_minor": 0
      },
      "text/plain": [
       "  0%|          | 0/1906 [00:00<?, ?it/s]"
      ]
     },
     "metadata": {},
     "output_type": "display_data"
    },
    {
     "name": "stdout",
     "output_type": "stream",
     "text": [
      "Saving best model\n",
      "For epoch #5 train loss 5.28289591440499, val loss 5.083090759118398\n"
     ]
    },
    {
     "data": {
      "application/vnd.jupyter.widget-view+json": {
       "model_id": "a9a392cadc60434e8a6b539cedd0aa8f",
       "version_major": 2,
       "version_minor": 0
      },
      "text/plain": [
       "  0%|          | 0/1906 [00:00<?, ?it/s]"
      ]
     },
     "metadata": {},
     "output_type": "display_data"
    },
    {
     "name": "stdout",
     "output_type": "stream",
     "text": [
      "Saving best model\n",
      "Saving best model\n",
      "For epoch #6 train loss 5.197769022027228, val loss 5.0204327072416035\n"
     ]
    },
    {
     "data": {
      "application/vnd.jupyter.widget-view+json": {
       "model_id": "9b9ecd52e35f4afba1562865c7e34cba",
       "version_major": 2,
       "version_minor": 0
      },
      "text/plain": [
       "  0%|          | 0/1906 [00:00<?, ?it/s]"
      ]
     },
     "metadata": {},
     "output_type": "display_data"
    },
    {
     "name": "stdout",
     "output_type": "stream",
     "text": [
      "Saving best model\n",
      "Saving best model\n",
      "For epoch #7 train loss 5.122395555923643, val loss 4.965806981027126\n"
     ]
    },
    {
     "data": {
      "application/vnd.jupyter.widget-view+json": {
       "model_id": "5e3c779636774ebd833e9a1623b7f694",
       "version_major": 2,
       "version_minor": 0
      },
      "text/plain": [
       "  0%|          | 0/1906 [00:00<?, ?it/s]"
      ]
     },
     "metadata": {},
     "output_type": "display_data"
    },
    {
     "name": "stdout",
     "output_type": "stream",
     "text": [
      "Saving best model\n",
      "For epoch #8 train loss 5.054686785522591, val loss 4.9184078351656595\n"
     ]
    },
    {
     "data": {
      "application/vnd.jupyter.widget-view+json": {
       "model_id": "b2293e9ccef744049734fba7c216cc58",
       "version_major": 2,
       "version_minor": 0
      },
      "text/plain": [
       "  0%|          | 0/1906 [00:00<?, ?it/s]"
      ]
     },
     "metadata": {},
     "output_type": "display_data"
    },
    {
     "name": "stdout",
     "output_type": "stream",
     "text": [
      "Saving best model\n",
      "For epoch #9 train loss 4.9931216662227795, val loss 4.876420514583588\n"
     ]
    },
    {
     "data": {
      "application/vnd.jupyter.widget-view+json": {
       "model_id": "296a9087e6af4687b9b9adba5f10e8de",
       "version_major": 2,
       "version_minor": 0
      },
      "text/plain": [
       "  0%|          | 0/1906 [00:00<?, ?it/s]"
      ]
     },
     "metadata": {},
     "output_type": "display_data"
    },
    {
     "name": "stdout",
     "output_type": "stream",
     "text": [
      "Saving best model\n",
      "For epoch #10 train loss 4.936620594014833, val loss 4.840741261568937\n"
     ]
    },
    {
     "data": {
      "application/vnd.jupyter.widget-view+json": {
       "model_id": "fad6d10d33164721b94b60aff268d97d",
       "version_major": 2,
       "version_minor": 0
      },
      "text/plain": [
       "  0%|          | 0/1906 [00:00<?, ?it/s]"
      ]
     },
     "metadata": {},
     "output_type": "display_data"
    },
    {
     "name": "stdout",
     "output_type": "stream",
     "text": [
      "Saving best model\n",
      "Saving best model\n",
      "For epoch #11 train loss 4.884346643281008, val loss 4.808285083174706\n"
     ]
    },
    {
     "data": {
      "application/vnd.jupyter.widget-view+json": {
       "model_id": "dfa12b05ba5f4a94b836948a789185f4",
       "version_major": 2,
       "version_minor": 0
      },
      "text/plain": [
       "  0%|          | 0/1906 [00:00<?, ?it/s]"
      ]
     },
     "metadata": {},
     "output_type": "display_data"
    },
    {
     "name": "stdout",
     "output_type": "stream",
     "text": [
      "Saving best model\n",
      "Saving best model\n",
      "For epoch #12 train loss 4.835647408605651, val loss 4.77964648778622\n"
     ]
    },
    {
     "data": {
      "application/vnd.jupyter.widget-view+json": {
       "model_id": "90f97845d02846a283dda9ff6091a8df",
       "version_major": 2,
       "version_minor": 0
      },
      "text/plain": [
       "  0%|          | 0/1906 [00:00<?, ?it/s]"
      ]
     },
     "metadata": {},
     "output_type": "display_data"
    },
    {
     "name": "stdout",
     "output_type": "stream",
     "text": [
      "Saving best model\n",
      "Saving best model\n",
      "For epoch #13 train loss 4.790082997198924, val loss 4.754106691394534\n"
     ]
    },
    {
     "data": {
      "application/vnd.jupyter.widget-view+json": {
       "model_id": "6f2f3eaa820745ff8675cea7e233cbbf",
       "version_major": 2,
       "version_minor": 0
      },
      "text/plain": [
       "  0%|          | 0/1906 [00:00<?, ?it/s]"
      ]
     },
     "metadata": {},
     "output_type": "display_data"
    },
    {
     "name": "stdout",
     "output_type": "stream",
     "text": [
      "Saving best model\n",
      "Saving best model\n",
      "For epoch #14 train loss 4.747191060694334, val loss 4.73138383769989\n"
     ]
    },
    {
     "data": {
      "application/vnd.jupyter.widget-view+json": {
       "model_id": "c806c88a1cf3410d95f4a1fb9e4109a1",
       "version_major": 2,
       "version_minor": 0
      },
      "text/plain": [
       "  0%|          | 0/1906 [00:00<?, ?it/s]"
      ]
     },
     "metadata": {},
     "output_type": "display_data"
    },
    {
     "name": "stdout",
     "output_type": "stream",
     "text": [
      "Saving best model\n",
      "For epoch #15 train loss 4.706656400720195, val loss 4.7105483502149585\n"
     ]
    },
    {
     "data": {
      "application/vnd.jupyter.widget-view+json": {
       "model_id": "b43b0823296d4e9c9f233a9519f14204",
       "version_major": 2,
       "version_minor": 0
      },
      "text/plain": [
       "  0%|          | 0/1906 [00:00<?, ?it/s]"
      ]
     },
     "metadata": {},
     "output_type": "display_data"
    },
    {
     "name": "stdout",
     "output_type": "stream",
     "text": [
      "Saving best model\n",
      "For epoch #16 train loss 4.668228257637643, val loss 4.69185594719999\n"
     ]
    },
    {
     "data": {
      "application/vnd.jupyter.widget-view+json": {
       "model_id": "64fd6e3704da43e198b25fe258a05534",
       "version_major": 2,
       "version_minor": 0
      },
      "text/plain": [
       "  0%|          | 0/1906 [00:00<?, ?it/s]"
      ]
     },
     "metadata": {},
     "output_type": "display_data"
    },
    {
     "name": "stdout",
     "output_type": "stream",
     "text": [
      "Saving best model\n",
      "For epoch #17 train loss 4.631672599675064, val loss 4.674486853082975\n"
     ]
    },
    {
     "data": {
      "application/vnd.jupyter.widget-view+json": {
       "model_id": "160eea569e414ee8a921a7d1729fe523",
       "version_major": 2,
       "version_minor": 0
      },
      "text/plain": [
       "  0%|          | 0/1906 [00:00<?, ?it/s]"
      ]
     },
     "metadata": {},
     "output_type": "display_data"
    },
    {
     "name": "stdout",
     "output_type": "stream",
     "text": [
      "For epoch #18 train loss 4.5967368706957945, val loss 4.659246751571956\n"
     ]
    },
    {
     "data": {
      "application/vnd.jupyter.widget-view+json": {
       "model_id": "7f0ebbd46e994296bf3579d47acb2732",
       "version_major": 2,
       "version_minor": 0
      },
      "text/plain": [
       "  0%|          | 0/1906 [00:00<?, ?it/s]"
      ]
     },
     "metadata": {},
     "output_type": "display_data"
    },
    {
     "name": "stdout",
     "output_type": "stream",
     "text": [
      "For epoch #19 train loss 4.563270795201455, val loss 4.6449730061292644\n"
     ]
    },
    {
     "data": {
      "application/vnd.jupyter.widget-view+json": {
       "model_id": "bfddaa5e20a84309a84198e5c7d721b5",
       "version_major": 2,
       "version_minor": 0
      },
      "text/plain": [
       "  0%|          | 0/1906 [00:00<?, ?it/s]"
      ]
     },
     "metadata": {},
     "output_type": "display_data"
    },
    {
     "name": "stdout",
     "output_type": "stream",
     "text": [
      "For epoch #20 train loss 4.5311158566599286, val loss 4.632351486796424\n"
     ]
    },
    {
     "data": {
      "application/vnd.jupyter.widget-view+json": {
       "model_id": "975f15ddb27c42929792cd94bb0d8a0f",
       "version_major": 2,
       "version_minor": 0
      },
      "text/plain": [
       "  0%|          | 0/1906 [00:00<?, ?it/s]"
      ]
     },
     "metadata": {},
     "output_type": "display_data"
    },
    {
     "name": "stdout",
     "output_type": "stream",
     "text": [
      "For epoch #21 train loss 4.5001587256765045, val loss 4.620792588429017\n"
     ]
    },
    {
     "data": {
      "application/vnd.jupyter.widget-view+json": {
       "model_id": "42c868be3e454fba9d09f987e04d27ce",
       "version_major": 2,
       "version_minor": 0
      },
      "text/plain": [
       "  0%|          | 0/1906 [00:00<?, ?it/s]"
      ]
     },
     "metadata": {},
     "output_type": "display_data"
    },
    {
     "name": "stdout",
     "output_type": "stream",
     "text": [
      "For epoch #22 train loss 4.470270840998978, val loss 4.610848846850188\n"
     ]
    },
    {
     "data": {
      "application/vnd.jupyter.widget-view+json": {
       "model_id": "d12cf0cf47ac4e61ae4c811ccc01b637",
       "version_major": 2,
       "version_minor": 0
      },
      "text/plain": [
       "  0%|          | 0/1906 [00:00<?, ?it/s]"
      ]
     },
     "metadata": {},
     "output_type": "display_data"
    },
    {
     "name": "stdout",
     "output_type": "stream",
     "text": [
      "For epoch #23 train loss 4.4413459757593765, val loss 4.601849189897378\n"
     ]
    },
    {
     "data": {
      "application/vnd.jupyter.widget-view+json": {
       "model_id": "8eb1aba08e634f818be3bdcb566ab39f",
       "version_major": 2,
       "version_minor": 0
      },
      "text/plain": [
       "  0%|          | 0/1906 [00:00<?, ?it/s]"
      ]
     },
     "metadata": {},
     "output_type": "display_data"
    },
    {
     "name": "stdout",
     "output_type": "stream",
     "text": [
      "For epoch #24 train loss 4.413336616222906, val loss 4.594205296087265\n"
     ]
    },
    {
     "data": {
      "application/vnd.jupyter.widget-view+json": {
       "model_id": "ba5ebef5d1304740b4c30222d8b3af6c",
       "version_major": 2,
       "version_minor": 0
      },
      "text/plain": [
       "  0%|          | 0/1906 [00:00<?, ?it/s]"
      ]
     },
     "metadata": {},
     "output_type": "display_data"
    },
    {
     "name": "stdout",
     "output_type": "stream",
     "text": [
      "For epoch #25 train loss 4.386116964686763, val loss 4.587261421405352\n"
     ]
    },
    {
     "data": {
      "application/vnd.jupyter.widget-view+json": {
       "model_id": "3f499919e69e41f8b7d493df27a118ae",
       "version_major": 2,
       "version_minor": 0
      },
      "text/plain": [
       "  0%|          | 0/1906 [00:00<?, ?it/s]"
      ]
     },
     "metadata": {},
     "output_type": "display_data"
    },
    {
     "name": "stdout",
     "output_type": "stream",
     "text": [
      "For epoch #26 train loss 4.359636084086729, val loss 4.5815596030376575\n"
     ]
    },
    {
     "data": {
      "application/vnd.jupyter.widget-view+json": {
       "model_id": "d3911fb3ad57465c9c67936e74a633b3",
       "version_major": 2,
       "version_minor": 0
      },
      "text/plain": [
       "  0%|          | 0/1906 [00:00<?, ?it/s]"
      ]
     },
     "metadata": {},
     "output_type": "display_data"
    },
    {
     "name": "stdout",
     "output_type": "stream",
     "text": [
      "For epoch #27 train loss 4.333885491620277, val loss 4.576414758307593\n"
     ]
    },
    {
     "data": {
      "application/vnd.jupyter.widget-view+json": {
       "model_id": "1c23c0e6521e49cdaac10f626a357b62",
       "version_major": 2,
       "version_minor": 0
      },
      "text/plain": [
       "  0%|          | 0/1906 [00:00<?, ?it/s]"
      ]
     },
     "metadata": {},
     "output_type": "display_data"
    },
    {
     "name": "stdout",
     "output_type": "stream",
     "text": [
      "For epoch #28 train loss 4.308750029852401, val loss 4.572065204505263\n"
     ]
    },
    {
     "data": {
      "application/vnd.jupyter.widget-view+json": {
       "model_id": "0a35a6eec8f04bddac5ab3ba25d4e0ea",
       "version_major": 2,
       "version_minor": 0
      },
      "text/plain": [
       "  0%|          | 0/1906 [00:00<?, ?it/s]"
      ]
     },
     "metadata": {},
     "output_type": "display_data"
    },
    {
     "name": "stdout",
     "output_type": "stream",
     "text": [
      "For epoch #29 train loss 4.284191581180522, val loss 4.569179706811905\n"
     ]
    },
    {
     "data": {
      "application/vnd.jupyter.widget-view+json": {
       "model_id": "90fb00272dbb4706b677ca7a1184b490",
       "version_major": 2,
       "version_minor": 0
      },
      "text/plain": [
       "  0%|          | 0/1906 [00:00<?, ?it/s]"
      ]
     },
     "metadata": {},
     "output_type": "display_data"
    },
    {
     "name": "stdout",
     "output_type": "stream",
     "text": [
      "For epoch #30 train loss 4.260194597346593, val loss 4.565994975566864\n"
     ]
    },
    {
     "data": {
      "application/vnd.jupyter.widget-view+json": {
       "model_id": "fdde779b463c4edab5e029340e2076bf",
       "version_major": 2,
       "version_minor": 0
      },
      "text/plain": [
       "  0%|          | 0/1906 [00:00<?, ?it/s]"
      ]
     },
     "metadata": {},
     "output_type": "display_data"
    },
    {
     "name": "stdout",
     "output_type": "stream",
     "text": [
      "For epoch #31 train loss 4.2367400964243185, val loss 4.56356771081686\n"
     ]
    },
    {
     "data": {
      "application/vnd.jupyter.widget-view+json": {
       "model_id": "f5bcbf7640a34821896d54fb9ee26b43",
       "version_major": 2,
       "version_minor": 0
      },
      "text/plain": [
       "  0%|          | 0/1906 [00:00<?, ?it/s]"
      ]
     },
     "metadata": {},
     "output_type": "display_data"
    },
    {
     "name": "stdout",
     "output_type": "stream",
     "text": [
      "For epoch #32 train loss 4.213802775387817, val loss 4.562337187203494\n"
     ]
    },
    {
     "data": {
      "application/vnd.jupyter.widget-view+json": {
       "model_id": "d6e73f3f6d3c461e9fb31300204cf5f5",
       "version_major": 2,
       "version_minor": 0
      },
      "text/plain": [
       "  0%|          | 0/1906 [00:00<?, ?it/s]"
      ]
     },
     "metadata": {},
     "output_type": "display_data"
    },
    {
     "name": "stdout",
     "output_type": "stream",
     "text": [
      "For epoch #33 train loss 4.191386144040992, val loss 4.560782678618151\n"
     ]
    },
    {
     "data": {
      "application/vnd.jupyter.widget-view+json": {
       "model_id": "b355e5b8ba7244b89479b3d87253aa54",
       "version_major": 2,
       "version_minor": 0
      },
      "text/plain": [
       "  0%|          | 0/1906 [00:00<?, ?it/s]"
      ]
     },
     "metadata": {},
     "output_type": "display_data"
    },
    {
     "name": "stdout",
     "output_type": "stream",
     "text": [
      "For epoch #34 train loss 4.169326284735515, val loss 4.560095957824162\n"
     ]
    },
    {
     "data": {
      "application/vnd.jupyter.widget-view+json": {
       "model_id": "294c9a0c2aac43c5b3ac7aea14fba728",
       "version_major": 2,
       "version_minor": 0
      },
      "text/plain": [
       "  0%|          | 0/1906 [00:00<?, ?it/s]"
      ]
     },
     "metadata": {},
     "output_type": "display_data"
    },
    {
     "name": "stdout",
     "output_type": "stream",
     "text": [
      "For epoch #35 train loss 4.148712826415182, val loss 4.558807360331217\n"
     ]
    },
    {
     "data": {
      "application/vnd.jupyter.widget-view+json": {
       "model_id": "217319cde4564e9aaa280ace91b26d77",
       "version_major": 2,
       "version_minor": 0
      },
      "text/plain": [
       "  0%|          | 0/1906 [00:00<?, ?it/s]"
      ]
     },
     "metadata": {},
     "output_type": "display_data"
    },
    {
     "name": "stdout",
     "output_type": "stream",
     "text": [
      "For epoch #36 train loss 4.12768769755785, val loss 4.55833892938253\n"
     ]
    },
    {
     "data": {
      "application/vnd.jupyter.widget-view+json": {
       "model_id": "7f6c300506984c7ab0b9bda47b1344e7",
       "version_major": 2,
       "version_minor": 0
      },
      "text/plain": [
       "  0%|          | 0/1906 [00:00<?, ?it/s]"
      ]
     },
     "metadata": {},
     "output_type": "display_data"
    },
    {
     "name": "stdout",
     "output_type": "stream",
     "text": [
      "For epoch #37 train loss 4.106794282546291, val loss 4.558523800749528\n"
     ]
    },
    {
     "data": {
      "application/vnd.jupyter.widget-view+json": {
       "model_id": "80d6d94516444736b4ac869ae2f267ff",
       "version_major": 2,
       "version_minor": 0
      },
      "text/plain": [
       "  0%|          | 0/1906 [00:00<?, ?it/s]"
      ]
     },
     "metadata": {},
     "output_type": "display_data"
    },
    {
     "name": "stdout",
     "output_type": "stream",
     "text": [
      "For epoch #38 train loss 4.086256858721469, val loss 4.559227474652804\n"
     ]
    },
    {
     "data": {
      "application/vnd.jupyter.widget-view+json": {
       "model_id": "8697f31ced6c487494bd4e72cff9366a",
       "version_major": 2,
       "version_minor": 0
      },
      "text/plain": [
       "  0%|          | 0/1906 [00:00<?, ?it/s]"
      ]
     },
     "metadata": {},
     "output_type": "display_data"
    },
    {
     "name": "stdout",
     "output_type": "stream",
     "text": [
      "For epoch #39 train loss 4.066077913055421, val loss 4.559791697859764\n"
     ]
    },
    {
     "data": {
      "application/vnd.jupyter.widget-view+json": {
       "model_id": "8626b02027224b8da0d54ddbb87ffa7e",
       "version_major": 2,
       "version_minor": 0
      },
      "text/plain": [
       "  0%|          | 0/1906 [00:00<?, ?it/s]"
      ]
     },
     "metadata": {},
     "output_type": "display_data"
    },
    {
     "name": "stdout",
     "output_type": "stream",
     "text": [
      "For epoch #40 train loss 4.046249389700304, val loss 4.56065232044313\n"
     ]
    },
    {
     "data": {
      "application/vnd.jupyter.widget-view+json": {
       "model_id": "db650982d2ed4f99836ba809fe3319aa",
       "version_major": 2,
       "version_minor": 0
      },
      "text/plain": [
       "  0%|          | 0/1906 [00:00<?, ?it/s]"
      ]
     },
     "metadata": {},
     "output_type": "display_data"
    },
    {
     "name": "stdout",
     "output_type": "stream",
     "text": [
      "For epoch #41 train loss 4.026684690706705, val loss 4.562242288078581\n"
     ]
    },
    {
     "data": {
      "application/vnd.jupyter.widget-view+json": {
       "model_id": "56282dade4e842c1a56d8e987d891f53",
       "version_major": 2,
       "version_minor": 0
      },
      "text/plain": [
       "  0%|          | 0/1906 [00:00<?, ?it/s]"
      ]
     },
     "metadata": {},
     "output_type": "display_data"
    },
    {
     "name": "stdout",
     "output_type": "stream",
     "text": [
      "For epoch #42 train loss 4.00745390206099, val loss 4.563674252476803\n"
     ]
    },
    {
     "data": {
      "application/vnd.jupyter.widget-view+json": {
       "model_id": "6a19e8c79c1b4535b3329d4d02f25740",
       "version_major": 2,
       "version_minor": 0
      },
      "text/plain": [
       "  0%|          | 0/1906 [00:00<?, ?it/s]"
      ]
     },
     "metadata": {},
     "output_type": "display_data"
    },
    {
     "name": "stdout",
     "output_type": "stream",
     "text": [
      "For epoch #43 train loss 3.988483936583184, val loss 4.565623646378517\n"
     ]
    },
    {
     "data": {
      "application/vnd.jupyter.widget-view+json": {
       "model_id": "f78f61a8892a44df8c1286d05670406a",
       "version_major": 2,
       "version_minor": 0
      },
      "text/plain": [
       "  0%|          | 0/1906 [00:00<?, ?it/s]"
      ]
     },
     "metadata": {},
     "output_type": "display_data"
    }
   ],
   "source": [
    "# Training part\n",
    "model = PGen(\n",
    "    vocab_size=len(vocab),\n",
    "    emb_dim=128, \n",
    "    hid_dim=256,\n",
    ")\n",
    "\n",
    "device = torch.device(\"cuda:0\" if torch.cuda.is_available() else \"cpu\")\n",
    "min_loss = 99999\n",
    "model.to(device)\n",
    "\n",
    "params = list(model.parameters())\n",
    "optimizer = torch.optim.Adagrad(params, lr=0.15, initial_accumulator_value=0.1)\n",
    "\n",
    "\n",
    "epoch_num = 45\n",
    "train_loss_list, val_loss_list = [], []\n",
    "\n",
    "for ep in tqdm(range(epoch_num)):\n",
    "    for train_batch in tqdm(train_loader):\n",
    "        src, src_ext, src_mask, extra_zeros, dec_inp, trg, trg_mask, target_lens, _ = train_batch\n",
    "\n",
    "        encoder_outputs, encoder_feature, s_t = model.encoder(src)\n",
    "        step_losses = []\n",
    "        batch_size = src.shape[0]\n",
    "        max_dec_len = dec_inp.shape[1]\n",
    "        \n",
    "        \n",
    "        # For first input\n",
    "        c_t = torch.zeros((batch_size, 2 * s_t[0].shape[-1]), requires_grad=True).to(device)\n",
    "        coverage = torch.zeros((src.shape), requires_grad=True).to(device)\n",
    "        y_t = dec_inp[:, 0]\n",
    "        \n",
    "        for di in range(1, max_dec_len):\n",
    "            final_dist, s_t,  c_t, attn_dist, p_gen, next_coverage = model.decoder(y_t,\n",
    "                                                                                   s_t,\n",
    "                                                                                   encoder_outputs,\n",
    "                                                                                   encoder_feature,\n",
    "                                                                                   src_mask,\n",
    "                                                                                   c_t,\n",
    "                                                                                   extra_zeros,\n",
    "                                                                                   src_ext,\n",
    "                                                                                   coverage,\n",
    "                                                                                  )\n",
    "            target = trg[:, di]\n",
    "            gold_probs = torch.gather(final_dist, 1, target.unsqueeze(1)).squeeze()\n",
    "            step_loss = -torch.log(gold_probs)\n",
    "\n",
    "            step_coverage_loss = torch.sum(torch.min(attn_dist, coverage), 1)\n",
    "            step_loss = step_loss + 0.1 * step_coverage_loss\n",
    "            coverage = next_coverage\n",
    "\n",
    "            step_mask = trg_mask[:, di]\n",
    "            step_loss = step_loss * step_mask\n",
    "            step_losses.append(step_loss)\n",
    "            \n",
    "            # Next token\n",
    "            y_t = dec_inp[:, di]  # Teacher forcing\n",
    "            \n",
    "        sum_losses = torch.sum(torch.stack(step_losses, 1), 1)\n",
    "        batch_avg_loss = sum_losses / target_lens\n",
    "        loss = torch.mean(batch_avg_loss)\n",
    "\n",
    "        optimizer.zero_grad()\n",
    "        loss.backward()\n",
    "        optimizer.step()\n",
    "        train_loss = loss.detach().item()\n",
    "        train_loss_list.append(train_loss)\n",
    "\n",
    "\n",
    "    #Validation loop\n",
    "    with torch.no_grad():\n",
    "        val_batch_loss = []\n",
    "        for val_batch in val_loader:\n",
    "            src, src_ext, src_mask, extra_zeros, dec_inp, trg, trg_mask, target_lens, _ = val_batch\n",
    "            encoder_outputs, encoder_feature, s_t = model.encoder(src)\n",
    "            step_losses = []\n",
    "            batch_size = src.shape[0]\n",
    "            max_dec_len = dec_inp.shape[1]\n",
    "            \n",
    "            # For first input\n",
    "            c_t = torch.zeros((batch_size, 2 * s_t[0].shape[-1]), requires_grad=True).to(device)\n",
    "            coverage = torch.zeros((src.shape), requires_grad=True).to(device)\n",
    "            y_t = dec_inp[:, 0]\n",
    "            for di in range(1, max_dec_len):\n",
    "                final_dist, s_t,  c_t, attn_dist, p_gen, next_coverage = model.decoder(y_t,\n",
    "                                                                                       s_t,\n",
    "                                                                                       encoder_outputs,\n",
    "                                                                                       encoder_feature,\n",
    "                                                                                       src_mask,\n",
    "                                                                                       c_t,\n",
    "                                                                                       extra_zeros,\n",
    "                                                                                       src_ext,\n",
    "                                                                                       coverage,\n",
    "                                                                                      )\n",
    "                target = trg[:, di]\n",
    "                gold_probs = torch.gather(final_dist, 1, target.unsqueeze(1)).squeeze()\n",
    "                step_loss = -torch.log(gold_probs)\n",
    "\n",
    "                step_coverage_loss = torch.sum(torch.min(attn_dist, coverage), 1)\n",
    "                step_loss = step_loss + 0.1 * step_coverage_loss\n",
    "                coverage = next_coverage\n",
    "\n",
    "                step_mask = trg_mask[:, di]\n",
    "                step_loss = step_loss * step_mask\n",
    "                step_losses.append(step_loss)\n",
    "                \n",
    "                y_t = dec_inp[:, di]  # Teacher forcing\n",
    "\n",
    "            sum_losses = torch.sum(torch.stack(step_losses, 1), 1)\n",
    "            batch_avg_loss = sum_losses / target_lens\n",
    "            loss = torch.mean(batch_avg_loss).item()\n",
    "            val_batch_loss.append(loss)\n",
    "    val_epoch_loss = np.mean(val_batch_loss)\n",
    "    val_loss_list.append(val_epoch_loss)\n",
    "    if val_epoch_loss < min_loss:\n",
    "        min_loss = val_epoch_loss\n",
    "        print('Saving best model')\n",
    "        torch.save(model, f'pointer_gazeta.pth')\n",
    "        \n",
    "        print(f'For epoch #{ep} train loss {np.mean(train_loss_list[-250_000:])}, val loss {np.mean(val_loss_list[-10_000:])}')"
   ]
  },
  {
   "cell_type": "code",
   "execution_count": 14,
   "id": "40e72f8b-8e41-45eb-8300-cf61948a25f5",
   "metadata": {},
   "outputs": [
    {
     "data": {
      "image/png": "[encoded data removed]",
      "text/plain": [
       "<Figure size 640x480 with 1 Axes>"
      ]
     },
     "metadata": {},
     "output_type": "display_data"
    }
   ],
   "source": [
    "plt.plot(train_loss_list, label='train');\n",
    "plt.legend();"
   ]
  },
  {
   "cell_type": "code",
   "execution_count": 15,
   "id": "d8b1a65d-7943-471d-b483-7f111eea05eb",
   "metadata": {
    "pycharm": {
     "name": "#%%\n"
    }
   },
   "outputs": [
    {
     "data": {
      "image/png": "[encoded data removed]",
      "text/plain": [
       "<Figure size 640x480 with 1 Axes>"
      ]
     },
     "metadata": {},
     "output_type": "display_data"
    }
   ],
   "source": [
    "plt.plot(val_loss_list, label='val');\n",
    "plt.legend();"
   ]
  },
  {
   "cell_type": "code",
   "execution_count": null,
   "id": "1b36e973-68c2-47e9-aa14-0f8df2bd1ada",
   "metadata": {},
   "outputs": [],
   "source": []
  }
 ],
 "metadata": {
  "kernelspec": {
   "display_name": "summ_venv",
   "language": "python",
   "name": "summ_venv"
  },
  "language_info": {
   "codemirror_mode": {
    "name": "ipython",
    "version": 3
   },
   "file_extension": ".py",
   "mimetype": "text/x-python",
   "name": "python",
   "nbconvert_exporter": "python",
   "pygments_lexer": "ipython3",
   "version": "3.7.12"
  }
 },
 "nbformat": 4,
 "nbformat_minor": 5
}
