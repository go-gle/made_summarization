{
 "cells": [
  {
   "cell_type": "code",
   "execution_count": 1,
   "id": "3d58fb54-a9f3-4a99-8144-b790ccf507f9",
   "metadata": {},
   "outputs": [],
   "source": [
    "import torch\n",
    "import torch.nn as nn\n",
    "from torch.utils.data import DataLoader\n",
    "from torch.nn.utils.rnn import pad_sequence\n",
    "\n",
    "from datasets import load_dataset\n",
    "from tqdm.notebook import tqdm\n",
    "\n",
    "from navec import Navec\n",
    "\n",
    "import matplotlib.pyplot as plt\n",
    "import numpy as np"
   ]
  },
  {
   "cell_type": "code",
   "execution_count": 2,
   "id": "cff26066-d298-4c74-a0cf-5332268d7947",
   "metadata": {},
   "outputs": [],
   "source": [
    "from extractor.model import Extractor\n",
    "from extractor.utils import create_target_mask, TaggingDataset"
   ]
  },
  {
   "cell_type": "code",
   "execution_count": 3,
   "id": "b2139a95-d660-48e7-ab21-7f7e5e2f8615",
   "metadata": {},
   "outputs": [
    {
     "name": "stderr",
     "output_type": "stream",
     "text": [
      "No config specified, defaulting to: gazeta/default\n",
      "Found cached dataset gazeta (/home/goncharovglebig/.cache/huggingface/datasets/IlyaGusev___gazeta/default/2.0.0/c329f0fc1c22ab6e43e0045ee659d0d43c647492baa2a6ab3a5ea7dac98cd552)\n"
     ]
    },
    {
     "data": {
      "application/vnd.jupyter.widget-view+json": {
       "model_id": "4650ee464860429584755c390bc3c30a",
       "version_major": 2,
       "version_minor": 0
      },
      "text/plain": [
       "  0%|          | 0/3 [00:00<?, ?it/s]"
      ]
     },
     "metadata": {},
     "output_type": "display_data"
    }
   ],
   "source": [
    "dataset = load_dataset('IlyaGusev/gazeta', revision=\"v2.0\")"
   ]
  },
  {
   "cell_type": "code",
   "execution_count": null,
   "id": "6052298d-6b00-458d-a043-2c1a0495408b",
   "metadata": {},
   "outputs": [
    {
     "data": {
      "application/vnd.jupyter.widget-view+json": {
       "model_id": "c193f858dcef4e2caf7ebea021a8d035",
       "version_major": 2,
       "version_minor": 0
      },
      "text/plain": [
       "  0%|          | 0/60964 [00:00<?, ?it/s]"
      ]
     },
     "metadata": {},
     "output_type": "display_data"
    }
   ],
   "source": [
    "train_dataset = TaggingDataset(dataset['train']['text'], dataset['train']['summary'])\n",
    "val_dataset = TaggingDataset(dataset['validation']['text'], dataset['validation']['summary'])"
   ]
  },
  {
   "cell_type": "code",
   "execution_count": null,
   "id": "1bbd038a-d08e-4b78-9ea5-b56235624d83",
   "metadata": {},
   "outputs": [],
   "source": [
    "navec = Navec.load('navec_hudlit_v1_12B_500K_300d_100q.tar')\n",
    "navec_emb_size = 300\n",
    "vocab = navec.vocab"
   ]
  },
  {
   "cell_type": "code",
   "execution_count": null,
   "id": "80bdde1d-6419-4e7f-accd-639cfb8be2cf",
   "metadata": {},
   "outputs": [],
   "source": [
    "def collate_batch(batch):\n",
    "    art_list, target_list = [], []\n",
    "    for art, target in batch:\n",
    "        art_encoded = [vocab[tok] if tok in vocab else vocab.unk_id\n",
    "                       for tok in art]\n",
    "        art_list.append(torch.tensor(np.array(art_encoded)))\n",
    "        target_list.append(torch.FloatTensor(np.array(target)))\n",
    "        \n",
    "    art_tensor_padded = pad_sequence(art_list, padding_value=vocab.pad_id).T\n",
    "    target_tensor_padded = pad_sequence(target_list, padding_value=0).T\n",
    "    return art_tensor_padded.to(device), target_tensor_padded.to(device)"
   ]
  },
  {
   "cell_type": "code",
   "execution_count": null,
   "id": "b0adcc50-179f-4c6c-9a2a-10dd269ca8d1",
   "metadata": {},
   "outputs": [],
   "source": [
    "train_loader = DataLoader(train_dataset, batch_size=256, collate_fn=collate_batch)\n",
    "val_loader = DataLoader(val_dataset, batch_size=256, collate_fn=collate_batch)"
   ]
  },
  {
   "cell_type": "code",
   "execution_count": null,
   "id": "82e48d77-f0f3-45f3-90ce-ce557997d31f",
   "metadata": {},
   "outputs": [],
   "source": [
    "device = torch.device(\"cuda:0\" if torch.cuda.is_available() else \"cpu\")"
   ]
  },
  {
   "cell_type": "code",
   "execution_count": null,
   "id": "28126337-234a-4367-804d-d1601653ab03",
   "metadata": {},
   "outputs": [
    {
     "name": "stdout",
     "output_type": "stream",
     "text": [
      "Saving best model\n",
      "For epoch #7 train loss 0.46334616447093596, val loss 0.44490158081054687\n"
     ]
    },
    {
     "data": {
      "application/vnd.jupyter.widget-view+json": {
       "model_id": "b078bd776ff94f3ba331df2c591d44f3",
       "version_major": 2,
       "version_minor": 0
      },
      "text/plain": [
       "  0%|          | 0/239 [00:00<?, ?it/s]"
      ]
     },
     "metadata": {},
     "output_type": "display_data"
    },
    {
     "name": "stdout",
     "output_type": "stream",
     "text": [
      "Saving best model\n",
      "For epoch #8 train loss 0.4578285845475438, val loss 0.44192117333412173\n"
     ]
    },
    {
     "data": {
      "application/vnd.jupyter.widget-view+json": {
       "model_id": "5bdc1d91230d4a12ab5e7124c2db90cf",
       "version_major": 2,
       "version_minor": 0
      },
      "text/plain": [
       "  0%|          | 0/239 [00:00<?, ?it/s]"
      ]
     },
     "metadata": {},
     "output_type": "display_data"
    },
    {
     "name": "stdout",
     "output_type": "stream",
     "text": [
      "Saving best model\n",
      "For epoch #9 train loss 0.4531725849815991, val loss 0.43927457809448245\n"
     ]
    },
    {
     "data": {
      "application/vnd.jupyter.widget-view+json": {
       "model_id": "ae38b1075a9d4e41a3b99f8a2eb25c4c",
       "version_major": 2,
       "version_minor": 0
      },
      "text/plain": [
       "  0%|          | 0/239 [00:00<?, ?it/s]"
      ]
     },
     "metadata": {},
     "output_type": "display_data"
    },
    {
     "name": "stdout",
     "output_type": "stream",
     "text": [
      "Saving best model\n",
      "For epoch #10 train loss 0.449182635264598, val loss 0.43704219818115236\n"
     ]
    },
    {
     "data": {
      "application/vnd.jupyter.widget-view+json": {
       "model_id": "a503d2ded7de495b99cd9753e0c5e092",
       "version_major": 2,
       "version_minor": 0
      },
      "text/plain": [
       "  0%|          | 0/239 [00:00<?, ?it/s]"
      ]
     },
     "metadata": {},
     "output_type": "display_data"
    },
    {
     "name": "stdout",
     "output_type": "stream",
     "text": [
      "Saving best model\n",
      "For epoch #11 train loss 0.4457158978140005, val loss 0.4355764973163605\n"
     ]
    },
    {
     "data": {
      "application/vnd.jupyter.widget-view+json": {
       "model_id": "cd9d9b8cbf8e4f3285e266b41086d648",
       "version_major": 2,
       "version_minor": 0
      },
      "text/plain": [
       "  0%|          | 0/239 [00:00<?, ?it/s]"
      ]
     },
     "metadata": {},
     "output_type": "display_data"
    },
    {
     "name": "stdout",
     "output_type": "stream",
     "text": [
      "Saving best model\n",
      "For epoch #12 train loss 0.44266974202758597, val loss 0.43417853116989136\n"
     ]
    },
    {
     "data": {
      "application/vnd.jupyter.widget-view+json": {
       "model_id": "2acda96958974b0499ef5a96915c749a",
       "version_major": 2,
       "version_minor": 0
      },
      "text/plain": [
       "  0%|          | 0/239 [00:00<?, ?it/s]"
      ]
     },
     "metadata": {},
     "output_type": "display_data"
    },
    {
     "name": "stdout",
     "output_type": "stream",
     "text": [
      "Saving best model\n",
      "For epoch #13 train loss 0.43996231995402735, val loss 0.4328217601776123\n"
     ]
    },
    {
     "data": {
      "application/vnd.jupyter.widget-view+json": {
       "model_id": "076bb13771ef46bd8191a77e8e851f1c",
       "version_major": 2,
       "version_minor": 0
      },
      "text/plain": [
       "  0%|          | 0/239 [00:00<?, ?it/s]"
      ]
     },
     "metadata": {},
     "output_type": "display_data"
    },
    {
     "name": "stdout",
     "output_type": "stream",
     "text": [
      "Saving best model\n",
      "For epoch #14 train loss 0.4375347310030311, val loss 0.431732075214386\n"
     ]
    },
    {
     "data": {
      "application/vnd.jupyter.widget-view+json": {
       "model_id": "25623757b0bf4f65b6d5f2bdd7892a76",
       "version_major": 2,
       "version_minor": 0
      },
      "text/plain": [
       "  0%|          | 0/239 [00:00<?, ?it/s]"
      ]
     },
     "metadata": {},
     "output_type": "display_data"
    },
    {
     "name": "stdout",
     "output_type": "stream",
     "text": [
      "Saving best model\n",
      "For epoch #15 train loss 0.4353429638706615, val loss 0.43062313795089724\n"
     ]
    },
    {
     "data": {
      "application/vnd.jupyter.widget-view+json": {
       "model_id": "c4dfe9bf5cc9484e8dbb219fbdfdecf6",
       "version_major": 2,
       "version_minor": 0
      },
      "text/plain": [
       "  0%|          | 0/239 [00:00<?, ?it/s]"
      ]
     },
     "metadata": {},
     "output_type": "display_data"
    },
    {
     "name": "stdout",
     "output_type": "stream",
     "text": [
      "Saving best model\n",
      "For epoch #16 train loss 0.4333469646334384, val loss 0.4296907794475555\n"
     ]
    },
    {
     "data": {
      "application/vnd.jupyter.widget-view+json": {
       "model_id": "a57ae9eed7b84d3983185b74f7523789",
       "version_major": 2,
       "version_minor": 0
      },
      "text/plain": [
       "  0%|          | 0/239 [00:00<?, ?it/s]"
      ]
     },
     "metadata": {},
     "output_type": "display_data"
    },
    {
     "name": "stdout",
     "output_type": "stream",
     "text": [
      "Saving best model\n",
      "For epoch #17 train loss 0.43151758370123483, val loss 0.42843363642692567\n"
     ]
    },
    {
     "data": {
      "application/vnd.jupyter.widget-view+json": {
       "model_id": "34958e05567b4f428e93d15932a49882",
       "version_major": 2,
       "version_minor": 0
      },
      "text/plain": [
       "  0%|          | 0/239 [00:00<?, ?it/s]"
      ]
     },
     "metadata": {},
     "output_type": "display_data"
    },
    {
     "name": "stdout",
     "output_type": "stream",
     "text": [
      "Saving best model\n",
      "For epoch #18 train loss 0.42983498375233614, val loss 0.42768046975135804\n"
     ]
    },
    {
     "data": {
      "application/vnd.jupyter.widget-view+json": {
       "model_id": "7b89930eb2034983a5fdebefb4bb6dc0",
       "version_major": 2,
       "version_minor": 0
      },
      "text/plain": [
       "  0%|          | 0/239 [00:00<?, ?it/s]"
      ]
     },
     "metadata": {},
     "output_type": "display_data"
    },
    {
     "name": "stdout",
     "output_type": "stream",
     "text": [
      "Saving best model\n",
      "For epoch #19 train loss 0.4282794010813765, val loss 0.42670886635780336\n"
     ]
    },
    {
     "data": {
      "application/vnd.jupyter.widget-view+json": {
       "model_id": "81ad87f302b64a9b8486ac599f7e3f55",
       "version_major": 2,
       "version_minor": 0
      },
      "text/plain": [
       "  0%|          | 0/239 [00:00<?, ?it/s]"
      ]
     },
     "metadata": {},
     "output_type": "display_data"
    },
    {
     "name": "stdout",
     "output_type": "stream",
     "text": [
      "Saving best model\n",
      "For epoch #20 train loss 0.4268392797104508, val loss 0.4257167100906372\n"
     ]
    },
    {
     "data": {
      "application/vnd.jupyter.widget-view+json": {
       "model_id": "ba4f61c780734996ae64564268f73907",
       "version_major": 2,
       "version_minor": 0
      },
      "text/plain": [
       "  0%|          | 0/239 [00:00<?, ?it/s]"
      ]
     },
     "metadata": {},
     "output_type": "display_data"
    },
    {
     "name": "stdout",
     "output_type": "stream",
     "text": [
      "Saving best model\n",
      "For epoch #21 train loss 0.4255025120357816, val loss 0.42477720737457275\n"
     ]
    },
    {
     "data": {
      "application/vnd.jupyter.widget-view+json": {
       "model_id": "a4dcb59c16714d54bbdab260d969cef5",
       "version_major": 2,
       "version_minor": 0
      },
      "text/plain": [
       "  0%|          | 0/239 [00:00<?, ?it/s]"
      ]
     },
     "metadata": {},
     "output_type": "display_data"
    },
    {
     "name": "stdout",
     "output_type": "stream",
     "text": [
      "Saving best model\n",
      "For epoch #22 train loss 0.4242590605583715, val loss 0.42380457639694213\n"
     ]
    },
    {
     "data": {
      "application/vnd.jupyter.widget-view+json": {
       "model_id": "468a7338781d4b1f840fea33d54c61c9",
       "version_major": 2,
       "version_minor": 0
      },
      "text/plain": [
       "  0%|          | 0/239 [00:00<?, ?it/s]"
      ]
     },
     "metadata": {},
     "output_type": "display_data"
    },
    {
     "name": "stdout",
     "output_type": "stream",
     "text": [
      "Saving best model\n",
      "For epoch #23 train loss 0.42309572130982015, val loss 0.4226683640480042\n"
     ]
    },
    {
     "data": {
      "application/vnd.jupyter.widget-view+json": {
       "model_id": "95fed26ddcfb4db39c4b8e1168deba56",
       "version_major": 2,
       "version_minor": 0
      },
      "text/plain": [
       "  0%|          | 0/239 [00:00<?, ?it/s]"
      ]
     },
     "metadata": {},
     "output_type": "display_data"
    },
    {
     "name": "stdout",
     "output_type": "stream",
     "text": [
      "Saving best model\n",
      "For epoch #24 train loss 0.42200098290603033, val loss 0.4217353701591492\n"
     ]
    },
    {
     "data": {
      "application/vnd.jupyter.widget-view+json": {
       "model_id": "9ad6c0925c4e4571a56b984f580bcbd4",
       "version_major": 2,
       "version_minor": 0
      },
      "text/plain": [
       "  0%|          | 0/239 [00:00<?, ?it/s]"
      ]
     },
     "metadata": {},
     "output_type": "display_data"
    },
    {
     "name": "stdout",
     "output_type": "stream",
     "text": [
      "Saving best model\n",
      "For epoch #25 train loss 0.42096239980639927, val loss 0.42023345351219177\n"
     ]
    },
    {
     "data": {
      "application/vnd.jupyter.widget-view+json": {
       "model_id": "5a874f5c4e6548ef8ff61b80e094c617",
       "version_major": 2,
       "version_minor": 0
      },
      "text/plain": [
       "  0%|          | 0/239 [00:00<?, ?it/s]"
      ]
     },
     "metadata": {},
     "output_type": "display_data"
    },
    {
     "name": "stdout",
     "output_type": "stream",
     "text": [
      "Saving best model\n",
      "For epoch #26 train loss 0.4199691839815202, val loss 0.41777320742607116\n"
     ]
    },
    {
     "data": {
      "application/vnd.jupyter.widget-view+json": {
       "model_id": "d2199b0727754f85b51d79301db9bfce",
       "version_major": 2,
       "version_minor": 0
      },
      "text/plain": [
       "  0%|          | 0/239 [00:00<?, ?it/s]"
      ]
     },
     "metadata": {},
     "output_type": "display_data"
    },
    {
     "name": "stdout",
     "output_type": "stream",
     "text": [
      "Saving best model\n",
      "Saving best model\n",
      "For epoch #28 train loss 0.4180672465679949, val loss 0.41408405542373655\n"
     ]
    },
    {
     "data": {
      "application/vnd.jupyter.widget-view+json": {
       "model_id": "7230e90f3edd476795f1a52973f75209",
       "version_major": 2,
       "version_minor": 0
      },
      "text/plain": [
       "  0%|          | 0/239 [00:00<?, ?it/s]"
      ]
     },
     "metadata": {},
     "output_type": "display_data"
    },
    {
     "name": "stdout",
     "output_type": "stream",
     "text": [
      "Saving best model\n",
      "For epoch #29 train loss 0.4171689212031278, val loss 0.4134033334255218\n"
     ]
    },
    {
     "data": {
      "application/vnd.jupyter.widget-view+json": {
       "model_id": "a3f6c4a2b96940628a6bc7eac2b26c96",
       "version_major": 2,
       "version_minor": 0
      },
      "text/plain": [
       "  0%|          | 0/239 [00:00<?, ?it/s]"
      ]
     },
     "metadata": {},
     "output_type": "display_data"
    },
    {
     "name": "stdout",
     "output_type": "stream",
     "text": [
      "Saving best model\n",
      "For epoch #30 train loss 0.4163074810336936, val loss 0.41238288044929505\n"
     ]
    },
    {
     "data": {
      "application/vnd.jupyter.widget-view+json": {
       "model_id": "9f59e88804d04121a14f6c3fba9d57e9",
       "version_major": 2,
       "version_minor": 0
      },
      "text/plain": [
       "  0%|          | 0/239 [00:00<?, ?it/s]"
      ]
     },
     "metadata": {},
     "output_type": "display_data"
    },
    {
     "name": "stdout",
     "output_type": "stream",
     "text": [
      "Saving best model\n",
      "For epoch #31 train loss 0.4154790296885633, val loss 0.41171960353851317\n"
     ]
    },
    {
     "data": {
      "application/vnd.jupyter.widget-view+json": {
       "model_id": "d5d00d1889a84fafbd03ddeb90938583",
       "version_major": 2,
       "version_minor": 0
      },
      "text/plain": [
       "  0%|          | 0/239 [00:00<?, ?it/s]"
      ]
     },
     "metadata": {},
     "output_type": "display_data"
    },
    {
     "name": "stdout",
     "output_type": "stream",
     "text": [
      "Saving best model\n",
      "For epoch #32 train loss 0.41468547627894736, val loss 0.41071720242500304\n"
     ]
    },
    {
     "data": {
      "application/vnd.jupyter.widget-view+json": {
       "model_id": "51e5c947abbd42dbaab840c937603525",
       "version_major": 2,
       "version_minor": 0
      },
      "text/plain": [
       "  0%|          | 0/239 [00:00<?, ?it/s]"
      ]
     },
     "metadata": {},
     "output_type": "display_data"
    },
    {
     "name": "stderr",
     "output_type": "stream",
     "text": [
      "IOPub message rate exceeded.\n",
      "The Jupyter server will temporarily stop sending output\n",
      "to the client in order to avoid crashing it.\n",
      "To change this limit, set the config variable\n",
      "`--ServerApp.iopub_msg_rate_limit`.\n",
      "\n",
      "Current values:\n",
      "ServerApp.iopub_msg_rate_limit=1000.0 (msgs/sec)\n",
      "ServerApp.rate_limit_window=3.0 (secs)\n",
      "\n"
     ]
    },
    {
     "name": "stdout",
     "output_type": "stream",
     "text": [
      "For epoch #46 train loss 0.4060850906916487, val loss 0.4039283907413483\n"
     ]
    },
    {
     "data": {
      "application/vnd.jupyter.widget-view+json": {
       "model_id": "f47fa78dbdf249bca9d118455d31b5f4",
       "version_major": 2,
       "version_minor": 0
      },
      "text/plain": [
       "  0%|          | 0/239 [00:00<?, ?it/s]"
      ]
     },
     "metadata": {},
     "output_type": "display_data"
    },
    {
     "name": "stdout",
     "output_type": "stream",
     "text": [
      "Saving best model\n",
      "For epoch #47 train loss 0.4056003413512534, val loss 0.4028892922401428\n"
     ]
    },
    {
     "data": {
      "application/vnd.jupyter.widget-view+json": {
       "model_id": "0ee508a6703c48d392649d19327d31b3",
       "version_major": 2,
       "version_minor": 0
      },
      "text/plain": [
       "  0%|          | 0/239 [00:00<?, ?it/s]"
      ]
     },
     "metadata": {},
     "output_type": "display_data"
    },
    {
     "name": "stdout",
     "output_type": "stream",
     "text": [
      "For epoch #48 train loss 0.4051286575709936, val loss 0.40303096294403074\n"
     ]
    },
    {
     "data": {
      "application/vnd.jupyter.widget-view+json": {
       "model_id": "00e137701b404905b3732618829e8163",
       "version_major": 2,
       "version_minor": 0
      },
      "text/plain": [
       "  0%|          | 0/239 [00:00<?, ?it/s]"
      ]
     },
     "metadata": {},
     "output_type": "display_data"
    },
    {
     "name": "stdout",
     "output_type": "stream",
     "text": [
      "Saving best model\n",
      "For epoch #49 train loss 0.404668207600027, val loss 0.4028620159626007\n"
     ]
    },
    {
     "data": {
      "application/vnd.jupyter.widget-view+json": {
       "model_id": "b5874231caad47bda321ffa7cbd97ae3",
       "version_major": 2,
       "version_minor": 0
      },
      "text/plain": [
       "  0%|          | 0/239 [00:00<?, ?it/s]"
      ]
     },
     "metadata": {},
     "output_type": "display_data"
    },
    {
     "name": "stdout",
     "output_type": "stream",
     "text": [
      "Saving best model\n",
      "For epoch #50 train loss 0.4042195824922887, val loss 0.4018055701255798\n"
     ]
    },
    {
     "data": {
      "application/vnd.jupyter.widget-view+json": {
       "model_id": "a1c68ca85cd5435c89871ba124f60222",
       "version_major": 2,
       "version_minor": 0
      },
      "text/plain": [
       "  0%|          | 0/239 [00:00<?, ?it/s]"
      ]
     },
     "metadata": {},
     "output_type": "display_data"
    },
    {
     "name": "stdout",
     "output_type": "stream",
     "text": [
      "For epoch #51 train loss 0.403790375070918, val loss 0.4021061158180237\n"
     ]
    },
    {
     "data": {
      "application/vnd.jupyter.widget-view+json": {
       "model_id": "ba7909779ec6498bbb0e44e8a93c4873",
       "version_major": 2,
       "version_minor": 0
      },
      "text/plain": [
       "  0%|          | 0/239 [00:00<?, ?it/s]"
      ]
     },
     "metadata": {},
     "output_type": "display_data"
    },
    {
     "name": "stderr",
     "output_type": "stream",
     "text": [
      "IOPub message rate exceeded.\n",
      "The Jupyter server will temporarily stop sending output\n",
      "to the client in order to avoid crashing it.\n",
      "To change this limit, set the config variable\n",
      "`--ServerApp.iopub_msg_rate_limit`.\n",
      "\n",
      "Current values:\n",
      "ServerApp.iopub_msg_rate_limit=1000.0 (msgs/sec)\n",
      "ServerApp.rate_limit_window=3.0 (secs)\n",
      "\n"
     ]
    },
    {
     "name": "stdout",
     "output_type": "stream",
     "text": [
      "Saving best model\n",
      "For epoch #62 train loss 0.39958763004394376, val loss 0.3979503655433655\n"
     ]
    },
    {
     "data": {
      "application/vnd.jupyter.widget-view+json": {
       "model_id": "d4d3ac39c85f4c04b3193f827b9566c6",
       "version_major": 2,
       "version_minor": 0
      },
      "text/plain": [
       "  0%|          | 0/239 [00:00<?, ?it/s]"
      ]
     },
     "metadata": {},
     "output_type": "display_data"
    },
    {
     "name": "stdout",
     "output_type": "stream",
     "text": [
      "For epoch #63 train loss 0.39924901367699, val loss 0.39799530982971193\n"
     ]
    },
    {
     "data": {
      "application/vnd.jupyter.widget-view+json": {
       "model_id": "f8be79436633406d9cf0390867961bd5",
       "version_major": 2,
       "version_minor": 0
      },
      "text/plain": [
       "  0%|          | 0/239 [00:00<?, ?it/s]"
      ]
     },
     "metadata": {},
     "output_type": "display_data"
    },
    {
     "name": "stdout",
     "output_type": "stream",
     "text": [
      "Saving best model\n",
      "For epoch #64 train loss 0.39891934048757316, val loss 0.3976000761985779\n"
     ]
    },
    {
     "data": {
      "application/vnd.jupyter.widget-view+json": {
       "model_id": "61df7f6fefbd4195b6cef68197a4f4d7",
       "version_major": 2,
       "version_minor": 0
      },
      "text/plain": [
       "  0%|          | 0/239 [00:00<?, ?it/s]"
      ]
     },
     "metadata": {},
     "output_type": "display_data"
    },
    {
     "name": "stdout",
     "output_type": "stream",
     "text": [
      "Saving best model\n",
      "For epoch #65 train loss 0.3985951026896643, val loss 0.39736503720283506\n"
     ]
    },
    {
     "data": {
      "application/vnd.jupyter.widget-view+json": {
       "model_id": "f0b1f4712b724f7481b46056b9710569",
       "version_major": 2,
       "version_minor": 0
      },
      "text/plain": [
       "  0%|          | 0/239 [00:00<?, ?it/s]"
      ]
     },
     "metadata": {},
     "output_type": "display_data"
    }
   ],
   "source": [
    "model = Extractor()\n",
    "device = torch.device(\"cuda:0\" if torch.cuda.is_available() else \"cpu\")\n",
    "min_loss = 99999\n",
    "model.to(device)\n",
    "\n",
    "params = list(model.parameters())\n",
    "optimizer = torch.optim.Adagrad(params, lr=0.1, initial_accumulator_value=0.1)\n",
    "criternion = nn.BCEWithLogitsLoss()\n",
    "\n",
    "epoch_num = 90\n",
    "train_loss_list, val_loss_list = [], []\n",
    "\n",
    "for ep in tqdm(range(epoch_num)):\n",
    "    for train_batch in tqdm(train_loader):\n",
    "        src, target = train_batch\n",
    "        out = model(src).squeeze()\n",
    "        \n",
    "        loss = criternion(out, target)\n",
    "        optimizer.zero_grad()\n",
    "        loss.backward()\n",
    "        optimizer.step()\n",
    "        train_loss = loss.detach().item()\n",
    "        train_loss_list.append(train_loss)\n",
    "\n",
    "    #Validation loop\n",
    "    val_batch_loss = []\n",
    "    with torch.no_grad():\n",
    "        for val_batch in val_loader:\n",
    "            src, target = train_batch\n",
    "            out = model(src).squeeze()\n",
    "            loss = criternion(out, target)\n",
    "            val_batch_loss.append(loss.detach().item())\n",
    "    val_loss = np.mean(val_batch_loss)\n",
    "    val_loss_list.append(val_loss)\n",
    "    if val_loss < min_loss:\n",
    "        min_loss = val_loss\n",
    "        print('Saving best model')\n",
    "        torch.save(model, f'extractor.pth')\n",
    "\n",
    "    print(f'For epoch #{ep} train loss {np.mean(train_loss_list[-250_000:])}, val loss {val_loss}')\n",
    "    "
   ]
  },
  {
   "cell_type": "code",
   "execution_count": null,
   "id": "99dec18c-5742-405c-a134-7b8ed7c7deee",
   "metadata": {},
   "outputs": [],
   "source": [
    "plt.plot(train_loss_list, label='train');\n",
    "plt.legend();"
   ]
  },
  {
   "cell_type": "code",
   "execution_count": null,
   "id": "7da9ad03-4f08-41b6-8070-ad63fa2013dd",
   "metadata": {},
   "outputs": [],
   "source": [
    "plt.plot(val_loss_list, label='val');\n",
    "plt.legend();"
   ]
  },
  {
   "cell_type": "code",
   "execution_count": null,
   "id": "2ecb1fe7-1b02-4006-bfdd-1f3c814b410a",
   "metadata": {},
   "outputs": [],
   "source": []
  }
 ],
 "metadata": {
  "kernelspec": {
   "display_name": "summ_venv",
   "language": "python",
   "name": "summ_venv"
  },
  "language_info": {
   "codemirror_mode": {
    "name": "ipython",
    "version": 3
   },
   "file_extension": ".py",
   "mimetype": "text/x-python",
   "name": "python",
   "nbconvert_exporter": "python",
   "pygments_lexer": "ipython3",
   "version": "3.7.12"
  }
 },
 "nbformat": 4,
 "nbformat_minor": 5
}
